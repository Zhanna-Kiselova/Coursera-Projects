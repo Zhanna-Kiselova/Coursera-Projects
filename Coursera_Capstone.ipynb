{
    "cells": [
        {
            "cell_type": "markdown",
            "metadata": {
                "collapsed": true
            },
            "source": "## <font color='blue'><u>\"INVESTMENT OPPORTUNITIES IN PARIS, FRANCE\"</font>"
        },
        {
            "cell_type": "markdown",
            "metadata": {},
            "source": "###  <font color='blue'>The Battle of Neighborhoods (The Capstone Project within the 10 Module IBM/Coursera learning program)</font>"
        },
        {
            "cell_type": "markdown",
            "metadata": {},
            "source": "### 1.\tINTRODUCTION TO A BUSINESS PROBLEM : "
        },
        {
            "cell_type": "markdown",
            "metadata": {},
            "source": "Every person at some stage of his or her life realizes the importance of the financial security. But do we know where should we start from ? Today we have so many opportunities relied to different investments (banking packages, life insurance programs, stocks, precious metals, human capital, antiques & art, virtual money, real etate, and else so many). \nBeing familiar with the real estate sector for a good number of years, I would like to discover in depth the question of real estate investment in Paris region, where I live. Real estate investment has always been considered as one of the most secure ones among a large range of investments. To better understand  the real estate investment opportunities and their yield, we have to take into account lots of factors and make our proper judgement upon the obtained results. Let\u2019s take as an example the Paris region, where we will make an analysis of investment in the capital of France and its suburbs. We will consider old residential properties in order to concentrate on a particular niche. This should help anyone get a clear idea about investment in this specific area. The same method and research can be implemented in any other city of the world thus helping people and businesses take necessary decisions.   \n   \n"
        },
        {
            "cell_type": "markdown",
            "metadata": {},
            "source": "### 2.\tDATA SECTION : "
        },
        {
            "cell_type": "markdown",
            "metadata": {},
            "source": "So, what shal we start from ? First of all our research should be based on some real-based data. We can find this information from different trusted sources. \nFirst of I, I will use the Wikipedia platform to get a list of different districts in Paris and see the densely populated areas  - therefore good opportunities for long-term rental investment.\nI will also use the Foursquare location data for determining the attractiveness of the widely animated districts for tourists \u2013 therefore good opportunities for short-term rental investment. \nWhat districts will be the most interesting for short-term rental investment and long-term rental investment? This will be the question to answer.    \nAt the end, I will use the most popular, widely used by the French platform for real estate announcements in France : www.seloger.com  This platform gives us a lot of information about the price /sqm of a property in required district and its net rental yield based on the real data published on this hub. We will take an example of investing in a studio apartment in Paris for a long-term rental and checking its monthly yield . Will it be considered as a good investment in a metropolis ? We will find out that.  \n"
        },
        {
            "cell_type": "code",
            "execution_count": 15,
            "metadata": {},
            "outputs": [
                {
                    "name": "stdout",
                    "output_type": "stream",
                    "text": "/opt/conda/envs/Python-3.7-main/lib/python3.7/site-packages/secretstorage/dhcrypto.py:16: CryptographyDeprecationWarning: int_from_bytes is deprecated, use int.from_bytes instead\n  from cryptography.utils import int_from_bytes\n/opt/conda/envs/Python-3.7-main/lib/python3.7/site-packages/secretstorage/util.py:25: CryptographyDeprecationWarning: int_from_bytes is deprecated, use int.from_bytes instead\n  from cryptography.utils import int_from_bytes\nRequirement already satisfied: bs4 in /opt/conda/envs/Python-3.7-main/lib/python3.7/site-packages (0.0.1)\nRequirement already satisfied: beautifulsoup4 in /opt/conda/envs/Python-3.7-main/lib/python3.7/site-packages (from bs4) (4.9.1)\nRequirement already satisfied: soupsieve>1.2 in /opt/conda/envs/Python-3.7-main/lib/python3.7/site-packages (from beautifulsoup4->bs4) (2.0.1)\n"
                }
            ],
            "source": "#!pip install requests\n!pip install bs4\n\n#Import the required modules and functions\nfrom bs4 import BeautifulSoup # this module helps in web scrapping.\nimport requests  # this module helps us to download a web page\nimport pandas as pd\n\n#Import the required modules and functions\nfrom bs4 import BeautifulSoup # this module helps in web scrapping.\nimport requests  # this module helps us to download a web page\n\n"
        },
        {
            "cell_type": "code",
            "execution_count": 17,
            "metadata": {},
            "outputs": [
                {
                    "data": {
                        "text/html": "<div>\n<style scoped>\n    .dataframe tbody tr th:only-of-type {\n        vertical-align: middle;\n    }\n\n    .dataframe tbody tr th {\n        vertical-align: top;\n    }\n\n    .dataframe thead th {\n        text-align: right;\n    }\n</style>\n<table border=\"1\" class=\"dataframe\">\n  <thead>\n    <tr style=\"text-align: right;\">\n      <th></th>\n      <th>Arr.</th>\n      <th>Prix de vente</th>\n      <th>Loyer (/m\u00b2)</th>\n      <th>Rentabilit\u00e9 brute</th>\n    </tr>\n  </thead>\n  <tbody>\n    <tr>\n      <th>0</th>\n      <td>1er</td>\n      <td>188\u00a0915\u00a0\u20ac</td>\n      <td>912\u00a0\u20ac</td>\n      <td>5,7\u00a0%</td>\n    </tr>\n    <tr>\n      <th>1</th>\n      <td>2e</td>\n      <td>167\u00a0534\u00a0\u20ac</td>\n      <td>856\u00a0\u20ac</td>\n      <td>6,1\u00a0%</td>\n    </tr>\n    <tr>\n      <th>2</th>\n      <td>3e</td>\n      <td>198\u00a0447\u00a0\u20ac</td>\n      <td>755\u00a0\u20ac</td>\n      <td>4,5\u00a0%</td>\n    </tr>\n    <tr>\n      <th>3</th>\n      <td>4e</td>\n      <td>283\u00a0035\u00a0\u20ac</td>\n      <td>866\u00a0\u20ac</td>\n      <td>3,6\u00a0%</td>\n    </tr>\n    <tr>\n      <th>4</th>\n      <td>5e</td>\n      <td>163\u00a0207\u00a0\u20ac</td>\n      <td>738\u00a0\u20ac</td>\n      <td>5,4\u00a0%</td>\n    </tr>\n    <tr>\n      <th>5</th>\n      <td>6e</td>\n      <td>217\u00a0803\u00a0\u20ac</td>\n      <td>854\u00a0\u20ac</td>\n      <td>4,7\u00a0%</td>\n    </tr>\n    <tr>\n      <th>6</th>\n      <td>7e</td>\n      <td>203\u00a0841\u00a0\u20ac</td>\n      <td>774\u00a0\u20ac</td>\n      <td>4,5\u00a0%</td>\n    </tr>\n    <tr>\n      <th>7</th>\n      <td>8e</td>\n      <td>146\u00a0855\u00a0\u20ac</td>\n      <td>721\u00a0\u20ac</td>\n      <td>5,8\u00a0%</td>\n    </tr>\n    <tr>\n      <th>8</th>\n      <td>9e</td>\n      <td>124\u00a0836\u00a0\u20ac</td>\n      <td>734\u00a0\u20ac</td>\n      <td>7\u00a0%</td>\n    </tr>\n    <tr>\n      <th>9</th>\n      <td>10e</td>\n      <td>115\u00a0060\u00a0\u20ac</td>\n      <td>693\u00a0\u20ac</td>\n      <td>7,2\u00a0%</td>\n    </tr>\n    <tr>\n      <th>10</th>\n      <td>11e</td>\n      <td>148\u00a0817\u00a0\u20ac</td>\n      <td>717\u00a0\u20ac</td>\n      <td>5,7\u00a0%</td>\n    </tr>\n    <tr>\n      <th>11</th>\n      <td>12e</td>\n      <td>153\u00a0189\u00a0\u20ac</td>\n      <td>674\u00a0\u20ac</td>\n      <td>5,2\u00a0%</td>\n    </tr>\n    <tr>\n      <th>12</th>\n      <td>13e</td>\n      <td>171\u00a0599\u00a0\u20ac</td>\n      <td>682\u00a0\u20ac</td>\n      <td>4,7\u00a0%</td>\n    </tr>\n    <tr>\n      <th>13</th>\n      <td>14e</td>\n      <td>162\u00a0532\u00a0\u20ac</td>\n      <td>666\u00a0\u20ac</td>\n      <td>4,9\u00a0%</td>\n    </tr>\n    <tr>\n      <th>14</th>\n      <td>15e</td>\n      <td>151\u00a0271\u00a0\u20ac</td>\n      <td>664\u00a0\u20ac</td>\n      <td>5,2\u00a0%</td>\n    </tr>\n    <tr>\n      <th>15</th>\n      <td>16e</td>\n      <td>146\u00a0985\u00a0\u20ac</td>\n      <td>675\u00a0\u20ac</td>\n      <td>5,5\u00a0%</td>\n    </tr>\n    <tr>\n      <th>16</th>\n      <td>17e</td>\n      <td>145\u00a0234\u00a0\u20ac</td>\n      <td>688\u00a0\u20ac</td>\n      <td>5,6\u00a0%</td>\n    </tr>\n    <tr>\n      <th>17</th>\n      <td>18e</td>\n      <td>150\u00a0863\u00a0\u20ac</td>\n      <td>714\u00a0\u20ac</td>\n      <td>5,6\u00a0%</td>\n    </tr>\n    <tr>\n      <th>18</th>\n      <td>19e</td>\n      <td>140\u00a0286\u00a0\u20ac</td>\n      <td>670\u00a0\u20ac</td>\n      <td>5,7\u00a0%</td>\n    </tr>\n    <tr>\n      <th>19</th>\n      <td>20e</td>\n      <td>163\u00a0528\u00a0\u20ac</td>\n      <td>663\u00a0\u20ac</td>\n      <td>4,8\u00a0%</td>\n    </tr>\n  </tbody>\n</table>\n</div>",
                        "text/plain": "   Arr. Prix de vente Loyer (/m\u00b2) Rentabilit\u00e9 brute\n0   1er     188\u00a0915\u00a0\u20ac       912\u00a0\u20ac             5,7\u00a0%\n1    2e     167\u00a0534\u00a0\u20ac       856\u00a0\u20ac             6,1\u00a0%\n2    3e     198\u00a0447\u00a0\u20ac       755\u00a0\u20ac             4,5\u00a0%\n3    4e     283\u00a0035\u00a0\u20ac       866\u00a0\u20ac             3,6\u00a0%\n4    5e     163\u00a0207\u00a0\u20ac       738\u00a0\u20ac             5,4\u00a0%\n5    6e     217\u00a0803\u00a0\u20ac       854\u00a0\u20ac             4,7\u00a0%\n6    7e     203\u00a0841\u00a0\u20ac       774\u00a0\u20ac             4,5\u00a0%\n7    8e     146\u00a0855\u00a0\u20ac       721\u00a0\u20ac             5,8\u00a0%\n8    9e     124\u00a0836\u00a0\u20ac       734\u00a0\u20ac               7\u00a0%\n9   10e     115\u00a0060\u00a0\u20ac       693\u00a0\u20ac             7,2\u00a0%\n10  11e     148\u00a0817\u00a0\u20ac       717\u00a0\u20ac             5,7\u00a0%\n11  12e     153\u00a0189\u00a0\u20ac       674\u00a0\u20ac             5,2\u00a0%\n12  13e     171\u00a0599\u00a0\u20ac       682\u00a0\u20ac             4,7\u00a0%\n13  14e     162\u00a0532\u00a0\u20ac       666\u00a0\u20ac             4,9\u00a0%\n14  15e     151\u00a0271\u00a0\u20ac       664\u00a0\u20ac             5,2\u00a0%\n15  16e     146\u00a0985\u00a0\u20ac       675\u00a0\u20ac             5,5\u00a0%\n16  17e     145\u00a0234\u00a0\u20ac       688\u00a0\u20ac             5,6\u00a0%\n17  18e     150\u00a0863\u00a0\u20ac       714\u00a0\u20ac             5,6\u00a0%\n18  19e     140\u00a0286\u00a0\u20ac       670\u00a0\u20ac             5,7\u00a0%\n19  20e     163\u00a0528\u00a0\u20ac       663\u00a0\u20ac             4,8\u00a0%"
                    },
                    "execution_count": 17,
                    "metadata": {},
                    "output_type": "execute_result"
                }
            ],
            "source": "html=\"https://edito.seloger.com/actualites/villes/quelle-rentabilite-locative-pour-un-studio-paris-par-arrondissement-article-32161.html\" \ndata  = requests.get(html).text \nsoup = BeautifulSoup(data, 'html5lib')\ndata = soup.find_all('table')[0]\ndf= pd.read_html(str(data)) \n\ndistricts=pd.DataFrame(df[0]) \ndistricts.head(20)"
        },
        {
            "cell_type": "code",
            "execution_count": null,
            "metadata": {},
            "outputs": [],
            "source": ""
        },
        {
            "cell_type": "code",
            "execution_count": null,
            "metadata": {},
            "outputs": [],
            "source": ""
        }
    ],
    "metadata": {
        "kernelspec": {
            "display_name": "Python 3.7",
            "language": "python",
            "name": "python3"
        },
        "language_info": {
            "codemirror_mode": {
                "name": "ipython",
                "version": 3
            },
            "file_extension": ".py",
            "mimetype": "text/x-python",
            "name": "python",
            "nbconvert_exporter": "python",
            "pygments_lexer": "ipython3",
            "version": "3.7.10"
        }
    },
    "nbformat": 4,
    "nbformat_minor": 1
}